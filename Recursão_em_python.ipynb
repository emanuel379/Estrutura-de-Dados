{
  "nbformat": 4,
  "nbformat_minor": 0,
  "metadata": {
    "colab": {
      "provenance": [],
      "authorship_tag": "ABX9TyMFoNyHoZXRiqHnKK7MPSla",
      "include_colab_link": true
    },
    "kernelspec": {
      "name": "python3",
      "display_name": "Python 3"
    },
    "language_info": {
      "name": "python"
    }
  },
  "cells": [
    {
      "cell_type": "markdown",
      "metadata": {
        "id": "view-in-github",
        "colab_type": "text"
      },
      "source": [
        "<a href=\"https://colab.research.google.com/github/emanuel379/Estrutura-de-Dados/blob/main/Recurs%C3%A3o_em_python.ipynb\" target=\"_parent\"><img src=\"https://colab.research.google.com/assets/colab-badge.svg\" alt=\"Open In Colab\"/></a>"
      ]
    },
    {
      "cell_type": "code",
      "execution_count": null,
      "metadata": {
        "colab": {
          "base_uri": "https://localhost:8080/"
        },
        "id": "BiCcz2GZTEjf",
        "outputId": "761ce683-8d8a-4066-9cb0-ce1e319ad924"
      },
      "outputs": [
        {
          "output_type": "stream",
          "name": "stdout",
          "text": [
            "Linha 1\n",
            "Texto 1\n",
            "Linha 2\n",
            "Texto 2\n",
            "Linha 3\n",
            "Texto 3\n",
            "Linha 4\n",
            "Texto 4\n"
          ]
        }
      ],
      "source": [
        "# Exemplo\n",
        "\n",
        "def imprime_linha(n):\n",
        "  for i in range (1, n + 1):\n",
        "   print(f'Linha {i}')\n",
        "   imprime_texto(i)\n",
        "\n",
        "def imprime_texto(n):\n",
        "  print(f'Texto {n}')\n",
        "\n",
        "imprime_linha(4)"
      ]
    },
    {
      "cell_type": "code",
      "source": [
        "# Fatorial\n",
        "\n",
        "def fact(n):\n",
        "  fatorial = 1\n",
        "  while n > 1:\n",
        "    fatorial = fatorial*n\n",
        "    n = n - 1\n",
        "  return fatorial\n",
        "fact(0)"
      ],
      "metadata": {
        "colab": {
          "base_uri": "https://localhost:8080/"
        },
        "id": "HXzt7UQiWKGr",
        "outputId": "330c8163-bb97-47fd-ba61-a0dbb12546ae"
      },
      "execution_count": null,
      "outputs": [
        {
          "output_type": "execute_result",
          "data": {
            "text/plain": [
              "1"
            ]
          },
          "metadata": {},
          "execution_count": 27
        }
      ]
    },
    {
      "cell_type": "code",
      "source": [
        "# Fatorial recursivo\n",
        "\n",
        "def fact(n):\n",
        "  if n == 0 or n == 1:\n",
        "    return 1\n",
        "  else:\n",
        "    return n*fact(n - 1)\n",
        "\n",
        "fact(5)"
      ],
      "metadata": {
        "colab": {
          "base_uri": "https://localhost:8080/"
        },
        "id": "RVjGRqHtYrgg",
        "outputId": "b0d9566d-db5b-4868-8c52-0b308d8e8441"
      },
      "execution_count": null,
      "outputs": [
        {
          "output_type": "execute_result",
          "data": {
            "text/plain": [
              "120"
            ]
          },
          "metadata": {},
          "execution_count": 32
        }
      ]
    },
    {
      "cell_type": "code",
      "source": [
        "# Escaneia quais arquivos sua pasta tem\n",
        "\n",
        "import os\n",
        "\n",
        "def escanear_pastas(pasta_inicial):\n",
        "  arquivos = os.listdir(pasta_inicial)\n",
        "  for arq in arquivos:\n",
        "    print(arq)\n",
        "\n",
        "colab = 'C:\\Users\\Emanuel\\Downloads\\takeout-20210830T014615Z-001 (1)\\Takeout\\Drive\\Colab Notebooks'\n",
        "escanear_pastas(colab)"
      ],
      "metadata": {
        "colab": {
          "base_uri": "https://localhost:8080/",
          "height": 138
        },
        "id": "i057rbJUYz_C",
        "outputId": "8fb56534-22f0-4697-9675-8ee8ceac0c10"
      },
      "execution_count": null,
      "outputs": [
        {
          "output_type": "error",
          "ename": "SyntaxError",
          "evalue": "ignored",
          "traceback": [
            "\u001b[0;36m  File \u001b[0;32m\"<ipython-input-38-30615cb5af08>\"\u001b[0;36m, line \u001b[0;32m10\u001b[0m\n\u001b[0;31m    colab = 'C:\\Users\\Emanuel\\Downloads\\takeout-20210830T014615Z-001 (1)\\Takeout\\Drive\\Colab Notebooks'\u001b[0m\n\u001b[0m                                                                                                       ^\u001b[0m\n\u001b[0;31mSyntaxError\u001b[0m\u001b[0;31m:\u001b[0m (unicode error) 'unicodeescape' codec can't decode bytes in position 2-3: truncated \\UXXXXXXXX escape\n"
          ]
        }
      ]
    },
    {
      "cell_type": "code",
      "source": [
        "# Fibonacci recursivo\n",
        "\n",
        "def fib(n):\n",
        "  if n == 1 or n == 2:\n",
        "    return 1\n",
        "  else:\n",
        "    return fib(n-1) + fib(n - 2)\n",
        "\n",
        "fib(5)"
      ],
      "metadata": {
        "id": "h0hirdgfiCUV",
        "colab": {
          "base_uri": "https://localhost:8080/"
        },
        "outputId": "ef47893d-9a86-4589-fc72-4b3e2d62fd00"
      },
      "execution_count": null,
      "outputs": [
        {
          "output_type": "execute_result",
          "data": {
            "text/plain": [
              "5"
            ]
          },
          "metadata": {},
          "execution_count": 43
        }
      ]
    },
    {
      "cell_type": "code",
      "source": [
        "# Calculando o número de recurções necessárias para se calcular o Fibonacci de um determinado número\n",
        "def número_de_recursões_pra_fib(n):\n",
        "  if n == 1 or n == 2:\n",
        "    return 0\n",
        "  elif n == 3:\n",
        "    return 2\n",
        "  else:\n",
        "    a, b = 0, 2\n",
        "    for i in range(3, n):\n",
        "      a, b = b, a + b + 2\n",
        "    return b\n",
        "\n",
        "número_de_recursões_pra_fib(10)\n",
        ""
      ],
      "metadata": {
        "colab": {
          "base_uri": "https://localhost:8080/"
        },
        "id": "bEgUleNHFAnH",
        "outputId": "309e1a6d-94bc-4861-f42e-5ca25c268253"
      },
      "execution_count": null,
      "outputs": [
        {
          "output_type": "execute_result",
          "data": {
            "text/plain": [
              "108"
            ]
          },
          "metadata": {},
          "execution_count": 46
        }
      ]
    },
    {
      "cell_type": "code",
      "source": [
        "# Outro fatorial recursivo\n",
        "\n",
        "def fact(n):\n",
        "  if n == 0 or n == 1:\n",
        "    return 1\n",
        "  elif n == 2:\n",
        "    return 2\n",
        "  else:\n",
        "    return n*fact(n - 1)\n",
        "\n",
        "fact(6)"
      ],
      "metadata": {
        "colab": {
          "base_uri": "https://localhost:8080/"
        },
        "id": "pVNEDhuaIp8h",
        "outputId": "fa7cd397-28b9-4c0e-f868-23cfa6c7cf89"
      },
      "execution_count": null,
      "outputs": [
        {
          "output_type": "execute_result",
          "data": {
            "text/plain": [
              "720"
            ]
          },
          "metadata": {},
          "execution_count": 48
        }
      ]
    },
    {
      "cell_type": "code",
      "source": [
        "# Somatório 1 + 2 + 3 + ... + n\n",
        "\n",
        "def soma(n):\n",
        "  if n == 1:\n",
        "    return 1\n",
        "  else:\n",
        "    return n + soma(n - 1)\n",
        "\n",
        "soma(5)\n"
      ],
      "metadata": {
        "colab": {
          "base_uri": "https://localhost:8080/"
        },
        "id": "V9MY3KVyKLeB",
        "outputId": "0732048a-254c-4cd0-e1e5-364c301cbf09"
      },
      "execution_count": null,
      "outputs": [
        {
          "output_type": "execute_result",
          "data": {
            "text/plain": [
              "15"
            ]
          },
          "metadata": {},
          "execution_count": 11
        }
      ]
    },
    {
      "cell_type": "code",
      "source": [
        "# Expansão da exponencial\n",
        "\n",
        "def fact(n):\n",
        "  if n == 0 or n == 1:\n",
        "    return 1\n",
        "  elif n == 2:\n",
        "    return 2\n",
        "  else:\n",
        "    return n*fact(n - 1)\n",
        "\n",
        "def exp(x, n):\n",
        "  if n == 0:\n",
        "    return 1\n",
        "  else:\n",
        "    return (x**n)/fact(n) + exp(x, n - 1)\n",
        "\n",
        "exp(2, 100)"
      ],
      "metadata": {
        "colab": {
          "base_uri": "https://localhost:8080/"
        },
        "id": "nLGE7gAMeTMO",
        "outputId": "f1adb7e0-7bfd-41f7-ff67-90defcc72d7e"
      },
      "execution_count": null,
      "outputs": [
        {
          "output_type": "execute_result",
          "data": {
            "text/plain": [
              "7.389056098930649"
            ]
          },
          "metadata": {},
          "execution_count": 53
        }
      ]
    },
    {
      "cell_type": "code",
      "source": [
        "# Exponencial de um número qualquer\n",
        "# Não foi uma recursão\n",
        "\n",
        "def expon(x, y):\n",
        "  if y == 0:\n",
        "    return 1\n",
        "  elif y == 1:\n",
        "    return x\n",
        "  else:\n",
        "    return x*expon(x, y - 1)\n",
        "\n",
        "expon(8, 4)"
      ],
      "metadata": {
        "colab": {
          "base_uri": "https://localhost:8080/"
        },
        "id": "HsyXd4bhhfAw",
        "outputId": "86d66789-3d4c-450c-e751-a11640f052dd"
      },
      "execution_count": null,
      "outputs": [
        {
          "output_type": "execute_result",
          "data": {
            "text/plain": [
              "4096"
            ]
          },
          "metadata": {},
          "execution_count": 70
        }
      ]
    },
    {
      "cell_type": "code",
      "source": [
        "# Torres de Hanói\n",
        "\n",
        "def hanoi(disc, ori, dest, aux):\n",
        "    if disc == 1:\n",
        "        print(f'Move disc {disc} from tower {ori} to the tower {dest}')\n",
        "        return\n",
        "\n",
        "    hanoi(disc - 1, ori, aux, dest)\n",
        "    print(f'Move disc {disc} from tower {ori} to the tower {dest}')\n",
        "    hanoi(disc - 1, aux, dest, ori)\n"
      ],
      "metadata": {
        "id": "cb2iAH87Dy-i"
      },
      "execution_count": null,
      "outputs": []
    },
    {
      "cell_type": "code",
      "source": [
        "hanoi(5, 2, 3, 1)"
      ],
      "metadata": {
        "colab": {
          "base_uri": "https://localhost:8080/"
        },
        "id": "Pme95IugKhpz",
        "outputId": "5f6ffd55-caf6-433a-be80-53df3a648b4c"
      },
      "execution_count": null,
      "outputs": [
        {
          "output_type": "stream",
          "name": "stdout",
          "text": [
            "Move disc 1 from tower 2 to the tower 3\n",
            "Move disc 2 from tower 2 to the tower 1\n",
            "Move disc 1 from tower 3 to the tower 1\n",
            "Move disc 3 from tower 2 to the tower 3\n",
            "Move disc 1 from tower 1 to the tower 2\n",
            "Move disc 2 from tower 1 to the tower 3\n",
            "Move disc 1 from tower 2 to the tower 3\n",
            "Move disc 4 from tower 2 to the tower 1\n",
            "Move disc 1 from tower 3 to the tower 1\n",
            "Move disc 2 from tower 3 to the tower 2\n",
            "Move disc 1 from tower 1 to the tower 2\n",
            "Move disc 3 from tower 3 to the tower 1\n",
            "Move disc 1 from tower 2 to the tower 3\n",
            "Move disc 2 from tower 2 to the tower 1\n",
            "Move disc 1 from tower 3 to the tower 1\n",
            "Move disc 5 from tower 2 to the tower 3\n",
            "Move disc 1 from tower 1 to the tower 2\n",
            "Move disc 2 from tower 1 to the tower 3\n",
            "Move disc 1 from tower 2 to the tower 3\n",
            "Move disc 3 from tower 1 to the tower 2\n",
            "Move disc 1 from tower 3 to the tower 1\n",
            "Move disc 2 from tower 3 to the tower 2\n",
            "Move disc 1 from tower 1 to the tower 2\n",
            "Move disc 4 from tower 1 to the tower 3\n",
            "Move disc 1 from tower 2 to the tower 3\n",
            "Move disc 2 from tower 2 to the tower 1\n",
            "Move disc 1 from tower 3 to the tower 1\n",
            "Move disc 3 from tower 2 to the tower 3\n",
            "Move disc 1 from tower 1 to the tower 2\n",
            "Move disc 2 from tower 1 to the tower 3\n",
            "Move disc 1 from tower 2 to the tower 3\n"
          ]
        }
      ]
    },
    {
      "cell_type": "code",
      "source": [
        "# É raiz do número?\n",
        "\n",
        "import math\n",
        "\n",
        "def raiz(b, a = 0):\n",
        "   n =  (a + b)/2\n",
        "   if n == math.sqrt(b):\n",
        "    print(f'{n} é raiz de {b}')\n",
        "   else:\n",
        "    return raiz(b - 1)\n",
        "\n",
        "raiz(9)\n"
      ],
      "metadata": {
        "colab": {
          "base_uri": "https://localhost:8080/"
        },
        "id": "hgUL-0WzPZQr",
        "outputId": "9db54b01-c6fe-4ddb-ce9b-ea49fbf3aa2e"
      },
      "execution_count": null,
      "outputs": [
        {
          "output_type": "stream",
          "name": "stdout",
          "text": [
            "2.0 é raiz de 4\n"
          ]
        }
      ]
    },
    {
      "cell_type": "code",
      "source": [
        "# Primeiro primo\n",
        "\n",
        "def primo(n):\n",
        "  count = 0\n",
        "  a = 1\n",
        "  for i in range(a, n + 1):\n",
        "   if n%i == 0:\n",
        "     count += 1\n",
        "  if count <= 2:\n",
        "    print(f'{n} é primo')\n",
        "  else:\n",
        "    return primo(n - 1)\n",
        "\n",
        "\n",
        "primo(52)"
      ],
      "metadata": {
        "colab": {
          "base_uri": "https://localhost:8080/"
        },
        "id": "kwCu__E0R23I",
        "outputId": "4318f2db-950c-46be-dfcf-042bdea68f2e"
      },
      "execution_count": null,
      "outputs": [
        {
          "output_type": "stream",
          "name": "stdout",
          "text": [
            "47 é primo\n"
          ]
        }
      ]
    },
    {
      "cell_type": "code",
      "source": [
        "# Encontrando a caixa com a chave\n",
        "\n",
        "from typing import List\n",
        "from collections import namedtuple\n",
        "\n",
        "Caixa = namedtuple('Caixa', 'tem_chave')\n",
        "\n",
        "def find_key(caixas: List[Caixa], index: int = 0) -> Caixa:\n",
        "  if len(caixas) <= index:\n",
        "    return Caixa(False)\n",
        "  caixa = caixas[index]\n",
        "\n",
        "  print(f'Buscando chave na caixa de índice {index} -> {caixa}')\n",
        "\n",
        "  if caixa.tem_chave:\n",
        "    return caixa\n",
        "\n",
        "  index += 1\n",
        "  return find_key(caixas, index)\n",
        "\n",
        "if __name__ == '__main__':\n",
        "  caixas: List[Caixa] = [\n",
        "      Caixa(False), Caixa(False), Caixa(False),\n",
        "      Caixa(False), Caixa(True), Caixa(False),\n",
        "      Caixa(False), Caixa(False), Caixa(False)\n",
        "  ]\n",
        "\n",
        "find_key(caixas)"
      ],
      "metadata": {
        "colab": {
          "base_uri": "https://localhost:8080/"
        },
        "id": "0ZNh0BcMWKdn",
        "outputId": "d68f87cc-e519-4f39-be2f-6c7feb200777"
      },
      "execution_count": null,
      "outputs": [
        {
          "output_type": "stream",
          "name": "stdout",
          "text": [
            "Buscando chave na caixa de índice 0 -> Caixa(tem_chave=False)\n",
            "Buscando chave na caixa de índice 1 -> Caixa(tem_chave=False)\n",
            "Buscando chave na caixa de índice 2 -> Caixa(tem_chave=False)\n",
            "Buscando chave na caixa de índice 3 -> Caixa(tem_chave=False)\n",
            "Buscando chave na caixa de índice 4 -> Caixa(tem_chave=True)\n"
          ]
        },
        {
          "output_type": "execute_result",
          "data": {
            "text/plain": [
              "Caixa(tem_chave=True)"
            ]
          },
          "metadata": {},
          "execution_count": 3
        }
      ]
    },
    {
      "cell_type": "code",
      "source": [],
      "metadata": {
        "id": "7lc_zSeo9k_5"
      },
      "execution_count": null,
      "outputs": []
    }
  ]
}