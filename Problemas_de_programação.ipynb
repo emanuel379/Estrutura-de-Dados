{
  "nbformat": 4,
  "nbformat_minor": 0,
  "metadata": {
    "colab": {
      "provenance": [],
      "authorship_tag": "ABX9TyO4aCa4zf2avcnKVyAmOCC/",
      "include_colab_link": true
    },
    "kernelspec": {
      "name": "python3",
      "display_name": "Python 3"
    },
    "language_info": {
      "name": "python"
    }
  },
  "cells": [
    {
      "cell_type": "markdown",
      "metadata": {
        "id": "view-in-github",
        "colab_type": "text"
      },
      "source": [
        "<a href=\"https://colab.research.google.com/github/emanuel379/Estrutura-de-Dados/blob/main/Problemas_de_programa%C3%A7%C3%A3o.ipynb\" target=\"_parent\"><img src=\"https://colab.research.google.com/assets/colab-badge.svg\" alt=\"Open In Colab\"/></a>"
      ]
    },
    {
      "cell_type": "code",
      "execution_count": null,
      "metadata": {
        "colab": {
          "base_uri": "https://localhost:8080/"
        },
        "id": "vrXXIiAfEBbH",
        "outputId": "cdeec01b-473c-436f-9c16-1e31d89faa01"
      },
      "outputs": [
        {
          "output_type": "execute_result",
          "data": {
            "text/plain": [
              "3"
            ]
          },
          "metadata": {},
          "execution_count": 11
        }
      ],
      "source": [
        "# Gas Station\n",
        "\n",
        "def gas_station(gas, cost):\n",
        "  ret = tanque = total = 0 # ret é a estação ideal para a partida\n",
        "  for i in range(len(gas)):\n",
        "    tanque += gas[i] - cost[i]\n",
        "    if tanque < 0:\n",
        "      tanque = 0\n",
        "      ret += 1\n",
        "\n",
        "    total += gas[i] - cost[i]\n",
        "\n",
        "  if total < 0:\n",
        "    return -1 # Onde -1 indica impossibilidade\n",
        "  else:\n",
        "    return ret\n",
        "\n",
        "gas = [1, 2, 3, 4, 5]\n",
        "cost = [3, 4, 5, 1, 2]\n",
        "gas_station(gas, cost)"
      ]
    },
    {
      "cell_type": "code",
      "source": [
        "# Subarray with given sum\n",
        "# O(n^3)\n",
        "\n",
        "def sum(vetor, S):\n",
        " for i in range(len(vetor) + 1): # O(n)\n",
        "   for j in range(len(vetor) + 1): # O(n)\n",
        "     soma = 0\n",
        "     for k in range(i, j): # O(n)\n",
        "       soma += vetor[k]\n",
        "     if soma == S:\n",
        "       print( i + 1, j) # Indexando a lista em 1 em vez de 0\n",
        "\n",
        "vetor = [1, 2, 3, 7, 5]\n",
        "S = 12\n",
        "sum(vetor, S)"
      ],
      "metadata": {
        "colab": {
          "base_uri": "https://localhost:8080/"
        },
        "id": "bhEKGt6-dNY0",
        "outputId": "db4c2828-cbd9-4d36-fe00-3fb07cef74aa"
      },
      "execution_count": null,
      "outputs": [
        {
          "output_type": "stream",
          "name": "stdout",
          "text": [
            "2 4\n",
            "4 5\n"
          ]
        }
      ]
    },
    {
      "cell_type": "code",
      "source": [
        "# Subarray with given sum: solução 2\n",
        "# O(n^2)\n",
        "\n",
        "def sum(vetor, S):\n",
        " for i in range(len(vetor) + 1): # O(n)\n",
        "   soma = 0\n",
        "   for j in range(i, len(vetor)): # O(n)\n",
        "    soma += vetor[j]\n",
        "    if soma == S:\n",
        "      print( i + 1, j + 1) # Indexando a lista em 1 em vez de 0\n",
        "\n",
        "vetor = [1, 2, 3, 7, 5]\n",
        "S = 15\n",
        "sum(vetor, S)"
      ],
      "metadata": {
        "colab": {
          "base_uri": "https://localhost:8080/"
        },
        "id": "6Xb4Ga04kvzk",
        "outputId": "df6fbed2-368f-4c74-dd30-6bf845e52ad1"
      },
      "execution_count": null,
      "outputs": [
        {
          "output_type": "stream",
          "name": "stdout",
          "text": [
            "3 5\n"
          ]
        }
      ]
    },
    {
      "cell_type": "code",
      "source": [
        "# Subarray with given sum: solução 3\n",
        "# O(2n) = O(n)\n",
        "\n",
        "def sum(vetor, S):\n",
        " soma = inicio = 0\n",
        " for fim in range(len(vetor)): # O(n)\n",
        "    soma += vetor[fim]\n",
        "    while soma > S and inicio < fim:\n",
        "      soma -= inicio\n",
        "      inicio += 1\n",
        "    if soma == S:\n",
        "      return print(inicio + 1, fim + 1) # Indexando a lista em 1 em vez de 0\n",
        "\n",
        "\n",
        "vetor = [4, 2, 3, 7, 2, 4, 2]\n",
        "S = 16\n",
        "sum(vetor, S)"
      ],
      "metadata": {
        "colab": {
          "base_uri": "https://localhost:8080/"
        },
        "id": "Lv-sXNHmjo2U",
        "outputId": "05d232ed-684a-4151-b30e-93bde6b9eb73"
      },
      "execution_count": null,
      "outputs": [
        {
          "output_type": "stream",
          "name": "stdout",
          "text": [
            "1 4\n"
          ]
        }
      ]
    },
    {
      "cell_type": "code",
      "source": [
        "# Observar se existem números que se repetem mais de uma vez e qual apareceu primeiro\n",
        "# O(n^2)\n",
        "\n",
        "def first_duplicate(vetor):\n",
        "  menor_segundo_indice = -1\n",
        "  for i in range( len(vetor)): # O(n)\n",
        "    for j in range(i + 1, len(vetor)): # O(n)\n",
        "      if vetor[i] == vetor[j]:\n",
        "        if menor_segundo_indice == -1 or j < menor_segundo_indice:\n",
        "          menor_segundo_indice = j\n",
        "\n",
        "  if menor_segundo_indice == -1:\n",
        "    return -1 # Não há repetição\n",
        "  else:\n",
        "    return vetor[j]\n",
        "\n",
        "vetor = [2, 1, 3, 5, 3, 2]\n",
        "first_duplicate(vetor)"
      ],
      "metadata": {
        "colab": {
          "base_uri": "https://localhost:8080/"
        },
        "id": "GTuXG3oTIBxt",
        "outputId": "7d3b29fe-4c6a-45a2-81a0-25ebad39ac27"
      },
      "execution_count": null,
      "outputs": [
        {
          "output_type": "execute_result",
          "data": {
            "text/plain": [
              "2"
            ]
          },
          "metadata": {},
          "execution_count": 16
        }
      ]
    },
    {
      "cell_type": "code",
      "source": [
        "# Soma de dois\n",
        "# A e B devem ter o mesmo tamanho\n",
        "# O(n^2)\n",
        "\n",
        "def sum_of_two(A, B, v):\n",
        "  index = {}\n",
        "  for i in range(len(A)): # O(n)\n",
        "    for j in range(len(B)): # O(n)\n",
        "      if A[i] + B[j] == v and 0 <= len(A) <= 10**9 and 0 <= len(B) <= 10**9:\n",
        "        index[i] = j\n",
        "\n",
        "  print(index)\n",
        "\n",
        "A = [1, 2, 3, 4, 5, 6, 7, 8, 9, 10]\n",
        "B = [0, 2, 3, 4, 5, 1, 7, 6]\n",
        "v = int(input())\n",
        "sum_of_two(A, B, v)"
      ],
      "metadata": {
        "colab": {
          "base_uri": "https://localhost:8080/"
        },
        "id": "Klq3MAPJ6e-O",
        "outputId": "2a72fc0f-8490-4ca7-f1fd-8f1ba61f9b9e"
      },
      "execution_count": null,
      "outputs": [
        {
          "output_type": "stream",
          "name": "stdout",
          "text": [
            "8\n",
            "{0: 6, 1: 7, 2: 4, 3: 3, 4: 2, 5: 1, 6: 5, 7: 0}\n"
          ]
        }
      ]
    },
    {
      "cell_type": "code",
      "source": [
        "# Sortedsquearedarray\n",
        "# é dado um vetor ordenado de inteiros, queremos ordenar um vetor com quadrados desses inteiros\n",
        "# O(nlogn)\n",
        "\n",
        "def sorted_squeared(l):\n",
        "  l2 = []\n",
        "  for i in l: # O(n)\n",
        "    l2.append(i**2)\n",
        "\n",
        "  l2 = sorted(l2)# O(nlogn)\n",
        "  print(l2)\n",
        "\n",
        "l = [-7, -6, -3, -1, 0, 2, 3, 4, 5, 10]\n",
        "sorted_squeared(l)"
      ],
      "metadata": {
        "colab": {
          "base_uri": "https://localhost:8080/"
        },
        "id": "3GiATIXEf-ks",
        "outputId": "80efb344-4f5c-4e8f-f73d-aa88c6f08432"
      },
      "execution_count": null,
      "outputs": [
        {
          "output_type": "stream",
          "name": "stdout",
          "text": [
            "[0, 1, 4, 9, 9, 16, 25, 36, 49, 100]\n"
          ]
        }
      ]
    },
    {
      "cell_type": "code",
      "source": [
        "# Max subarray sum\n",
        "# O(n)\n",
        "\n",
        "def max_sum(l):\n",
        "  maxsum = l[0]\n",
        "  sum = l[0]\n",
        "  if len(l) >= 3:\n",
        "   for i in range(1, len(l)): # O(n)\n",
        "     n = l[i]\n",
        "     sum = max(sum + n, n)\n",
        "     maxsum = max(sum, maxsum)\n",
        "   print(maxsum)\n",
        "\n",
        "\n",
        "l = [1, -2, 3, -10, 4, 5, -3, -4, 7, 700]\n",
        "max_sum(l)"
      ],
      "metadata": {
        "colab": {
          "base_uri": "https://localhost:8080/"
        },
        "id": "Znc3PTzHiFSj",
        "outputId": "40653322-5732-4782-9b49-15c9a10db134"
      },
      "execution_count": null,
      "outputs": [
        {
          "output_type": "stream",
          "name": "stdout",
          "text": [
            "709\n"
          ]
        }
      ]
    }
  ]
}