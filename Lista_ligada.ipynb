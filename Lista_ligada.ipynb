{
  "nbformat": 4,
  "nbformat_minor": 0,
  "metadata": {
    "colab": {
      "provenance": [],
      "authorship_tag": "ABX9TyOdlC0MX50Q0LdM2Txx2qUC",
      "include_colab_link": true
    },
    "kernelspec": {
      "name": "python3",
      "display_name": "Python 3"
    },
    "language_info": {
      "name": "python"
    }
  },
  "cells": [
    {
      "cell_type": "markdown",
      "metadata": {
        "id": "view-in-github",
        "colab_type": "text"
      },
      "source": [
        "<a href=\"https://colab.research.google.com/github/emanuel379/Estrutura-de-Dados/blob/main/Lista_ligada.ipynb\" target=\"_parent\"><img src=\"https://colab.research.google.com/assets/colab-badge.svg\" alt=\"Open In Colab\"/></a>"
      ]
    },
    {
      "cell_type": "code",
      "execution_count": null,
      "metadata": {
        "colab": {
          "base_uri": "https://localhost:8080/"
        },
        "id": "G1pYL1HGXkS1",
        "outputId": "7861c855-dd9b-4501-b9df-827a7ef30b2e"
      },
      "outputs": [
        {
          "output_type": "stream",
          "name": "stdout",
          "text": [
            "True\n",
            "[3, 2, 1]\n",
            "3\n",
            "[3, 2, 1, 4, 5, 6]\n",
            "6\n",
            "[2, 1, 4, 5]\n",
            "4\n"
          ]
        }
      ],
      "source": [
        "# Lista duplamente ligada\n",
        "# Complexidade: O(1)\n",
        "\n",
        "class Node:\n",
        "\n",
        "  def __init__(self, init_data, prev, next):\n",
        "    self.data = init_data\n",
        "    self.prev = prev\n",
        "    self.next = next\n",
        "\n",
        "  def get_data(self):\n",
        "    return self.data\n",
        "\n",
        "  # Atualiza os dados\n",
        "  def set_data(self, new_data):\n",
        "    self.data = new_data\n",
        "\n",
        "class DoubleList:\n",
        "  def __init__(self):\n",
        "    self.header = Node(None, None, None) # Nó vazio\n",
        "    self.trailer = Node(None, None, None) # Nó vazio\n",
        "    # trailer no final\n",
        "    self.header.next = self.trailer\n",
        "    # header no início\n",
        "    self.trailer.prev = self.header\n",
        "    self.size = 0\n",
        "\n",
        "  # Verifica se a lista está vazia\n",
        "  def is_empty(self):\n",
        "    return self.size == 0\n",
        "\n",
        "  def __len__(self):\n",
        "    return self.size\n",
        "\n",
        "  # Inserir no meio\n",
        "  def insert_Between(self, item, pred, sucessor):\n",
        "    newest = Node(item, pred, sucessor)\n",
        "    pred.next = newest\n",
        "    sucessor.prev = newest\n",
        "    self.size += 1\n",
        "    return newest\n",
        "\n",
        "  def insert_first(self, data):\n",
        "    # Entra entre header e header.next\n",
        "    self.insert_Between(data, self.header, self.header.next)\n",
        "\n",
        "  def insert_last(self, data):\n",
        "    # Entra entre trailer.prev e trailer\n",
        "    self.insert_Between(data, self.trailer.prev, self.trailer)\n",
        "\n",
        "  def delete_node(self, node):\n",
        "    pred = node.prev\n",
        "    sucessor = node.next\n",
        "    pred.next = sucessor\n",
        "    sucessor.prev = pred\n",
        "    self.size -= 1\n",
        "    # Armazenando o elemento removido\n",
        "    elem = node.data\n",
        "    node.prev = node.next = node.elem = None\n",
        "    return elem\n",
        "\n",
        "  def delete_first(self):\n",
        "    if self.is_empty():\n",
        "      raise Empty('Lista vazia')\n",
        "    return self.delete_node(self.header.next)\n",
        "\n",
        "  def delete_last(self):\n",
        "    if self.is_empty():\n",
        "      raise Empty('Lista vazia')\n",
        "    return self.delete_node(self.trailer.prev)\n",
        "\n",
        "  def print_list(self):\n",
        "    # Aponta a referência para a cabeça\n",
        "    temp = self.header.next\n",
        "    X = []\n",
        "    # percorre a lista adicionando elementos em X\n",
        "    while temp.next != None:\n",
        "      X.append(temp.data)\n",
        "      temp = temp.next\n",
        "    return X\n",
        "\n",
        "if __name__ == '__main__':\n",
        "  # Cria lista vazia\n",
        "  L = DoubleList()\n",
        "  print(L.is_empty())\n",
        "  # Insere no início\n",
        "  L.insert_first(1)\n",
        "  L.insert_first(2)\n",
        "  L.insert_first(3)\n",
        "  print(L.print_list())\n",
        "  print(len(L))\n",
        "  # Insere no final\n",
        "  L.insert_last(4)\n",
        "  L.insert_last(5)\n",
        "  L.insert_last(6)\n",
        "  print(L.print_list())\n",
        "  print(len(L))\n",
        "  L.delete_first()\n",
        "  L.delete_last()\n",
        "  print(L.print_list())\n",
        "  print(len(L))"
      ]
    }
  ]
}